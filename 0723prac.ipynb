{
 "cells": [
  {
   "cell_type": "code",
   "execution_count": 2,
   "metadata": {},
   "outputs": [
    {
     "name": "stdout",
     "output_type": "stream",
     "text": [
      "#usage: python /root/anaconda3/lib/python3.7/site-packages/ipykernel_launcher.py [fasta.gz]\n"
     ]
    },
    {
     "ename": "SystemExit",
     "evalue": "",
     "output_type": "error",
     "traceback": [
      "An exception has occurred, use %tb to see the full traceback.\n",
      "\u001b[0;31mSystemExit\u001b[0m\n"
     ]
    }
   ],
   "source": [
    "import sys\n",
    "import gzip\n",
    "\n",
    "if len(sys.argv) != 2:\n",
    "    print(f\"#usage: python {sys.argv[0]} [fasta.gz]\")\n",
    "    sys.exit()\n",
    "\n",
    "f = sys.argv[1]\n",
    "\n",
    "with gzip.open(f,'rb') as handle:\n",
    "    for line in handle:\n",
    "        line = line.decode(\"utf-8\")\n",
    "        print(type(line.strip()))\n",
    "        sys.exit()\n",
    "\n",
    "        \n",
    "d = {}  #염기와 개수를 key:value로 담을 딕셔너리\n",
    "#gzip파일을 열어, 각 염기와 그 개수를 딕셔너리 d에 저장.\n",
    "with gzip.open(f,'rb') as handle:\n",
    "    for line in handle:\n",
    "        line = line.decode(\"utf-8\").strip()\n",
    "        if line.startswith(\">\"):\n",
    "            continue\n",
    "        for s in line:\n",
    "            if s in d:\n",
    "                d[s] += 1\n",
    "            else:\n",
    "                d[s] = 1\n",
    "\n",
    "total = 0\n",
    "for key, value in d.items():\n",
    "    total += value\n",
    "\n",
    "\n",
    "with open(\"result1.txt\",'w') as handle:\n",
    "    handle.write(f\"A: {d['A']}\\n\")\n",
    "    handle.write(f\"C: {d['C']}\\n\")\n",
    "    handle.write(f\"G: {d['G']}\\n\")\n",
    "    handle.write(f\"T: {d['T']}\\n\")\n",
    "    handle.write(f\"total seq num: {total}\") # 출력안됨..?\n",
    "\n"
   ]
  }
 ],
 "metadata": {
  "kernelspec": {
   "display_name": "Python 3",
   "language": "python",
   "name": "python3"
  },
  "language_info": {
   "codemirror_mode": {
    "name": "ipython",
    "version": 3
   },
   "file_extension": ".py",
   "mimetype": "text/x-python",
   "name": "python",
   "nbconvert_exporter": "python",
   "pygments_lexer": "ipython3",
   "version": "3.7.6"
  }
 },
 "nbformat": 4,
 "nbformat_minor": 4
}
